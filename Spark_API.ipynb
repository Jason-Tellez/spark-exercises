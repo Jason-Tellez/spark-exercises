{
 "cells": [
  {
   "cell_type": "markdown",
   "id": "599a4c5f",
   "metadata": {},
   "source": [
    "# Spark API"
   ]
  },
  {
   "cell_type": "code",
   "execution_count": 1,
   "id": "9459de1e",
   "metadata": {},
   "outputs": [],
   "source": [
    "import pydataset # for demo\n",
    "import pyspark"
   ]
  },
  {
   "cell_type": "code",
   "execution_count": 2,
   "id": "3faf68e0",
   "metadata": {},
   "outputs": [],
   "source": [
    "spark = pyspark.sql.SparkSession.builder.getOrCreate()"
   ]
  },
  {
   "cell_type": "code",
   "execution_count": 3,
   "id": "8fed67c6",
   "metadata": {},
   "outputs": [
    {
     "data": {
      "text/html": [
       "<div>\n",
       "<style scoped>\n",
       "    .dataframe tbody tr th:only-of-type {\n",
       "        vertical-align: middle;\n",
       "    }\n",
       "\n",
       "    .dataframe tbody tr th {\n",
       "        vertical-align: top;\n",
       "    }\n",
       "\n",
       "    .dataframe thead th {\n",
       "        text-align: right;\n",
       "    }\n",
       "</style>\n",
       "<table border=\"1\" class=\"dataframe\">\n",
       "  <thead>\n",
       "    <tr style=\"text-align: right;\">\n",
       "      <th></th>\n",
       "      <th>total_bill</th>\n",
       "      <th>tip</th>\n",
       "      <th>sex</th>\n",
       "      <th>smoker</th>\n",
       "      <th>day</th>\n",
       "      <th>time</th>\n",
       "      <th>size</th>\n",
       "    </tr>\n",
       "  </thead>\n",
       "  <tbody>\n",
       "    <tr>\n",
       "      <th>1</th>\n",
       "      <td>16.99</td>\n",
       "      <td>1.01</td>\n",
       "      <td>Female</td>\n",
       "      <td>No</td>\n",
       "      <td>Sun</td>\n",
       "      <td>Dinner</td>\n",
       "      <td>2</td>\n",
       "    </tr>\n",
       "    <tr>\n",
       "      <th>2</th>\n",
       "      <td>10.34</td>\n",
       "      <td>1.66</td>\n",
       "      <td>Male</td>\n",
       "      <td>No</td>\n",
       "      <td>Sun</td>\n",
       "      <td>Dinner</td>\n",
       "      <td>3</td>\n",
       "    </tr>\n",
       "    <tr>\n",
       "      <th>3</th>\n",
       "      <td>21.01</td>\n",
       "      <td>3.50</td>\n",
       "      <td>Male</td>\n",
       "      <td>No</td>\n",
       "      <td>Sun</td>\n",
       "      <td>Dinner</td>\n",
       "      <td>3</td>\n",
       "    </tr>\n",
       "    <tr>\n",
       "      <th>4</th>\n",
       "      <td>23.68</td>\n",
       "      <td>3.31</td>\n",
       "      <td>Male</td>\n",
       "      <td>No</td>\n",
       "      <td>Sun</td>\n",
       "      <td>Dinner</td>\n",
       "      <td>2</td>\n",
       "    </tr>\n",
       "    <tr>\n",
       "      <th>5</th>\n",
       "      <td>24.59</td>\n",
       "      <td>3.61</td>\n",
       "      <td>Female</td>\n",
       "      <td>No</td>\n",
       "      <td>Sun</td>\n",
       "      <td>Dinner</td>\n",
       "      <td>4</td>\n",
       "    </tr>\n",
       "  </tbody>\n",
       "</table>\n",
       "</div>"
      ],
      "text/plain": [
       "   total_bill   tip     sex smoker  day    time  size\n",
       "1       16.99  1.01  Female     No  Sun  Dinner     2\n",
       "2       10.34  1.66    Male     No  Sun  Dinner     3\n",
       "3       21.01  3.50    Male     No  Sun  Dinner     3\n",
       "4       23.68  3.31    Male     No  Sun  Dinner     2\n",
       "5       24.59  3.61  Female     No  Sun  Dinner     4"
      ]
     },
     "execution_count": 3,
     "metadata": {},
     "output_type": "execute_result"
    }
   ],
   "source": [
    "tips = pydataset.data('tips')\n",
    "tips.head()"
   ]
  },
  {
   "cell_type": "code",
   "execution_count": 4,
   "id": "fbaaa66a",
   "metadata": {},
   "outputs": [],
   "source": [
    "tips = spark.createDataFrame(tips) # any pandas dataframe"
   ]
  },
  {
   "cell_type": "code",
   "execution_count": 5,
   "id": "7a9c1cfe",
   "metadata": {},
   "outputs": [
    {
     "data": {
      "text/plain": [
       "DataFrame[total_bill: double, tip: double, sex: string, smoker: string, day: string, time: string, size: bigint]"
      ]
     },
     "execution_count": 5,
     "metadata": {},
     "output_type": "execute_result"
    }
   ],
   "source": [
    "tips"
   ]
  },
  {
   "cell_type": "code",
   "execution_count": 6,
   "id": "01b6bc2a",
   "metadata": {},
   "outputs": [
    {
     "name": "stdout",
     "output_type": "stream",
     "text": [
      "+----------+----+------+------+---+------+----+\n",
      "|total_bill| tip|   sex|smoker|day|  time|size|\n",
      "+----------+----+------+------+---+------+----+\n",
      "|     16.99|1.01|Female|    No|Sun|Dinner|   2|\n",
      "|     10.34|1.66|  Male|    No|Sun|Dinner|   3|\n",
      "|     21.01| 3.5|  Male|    No|Sun|Dinner|   3|\n",
      "|     23.68|3.31|  Male|    No|Sun|Dinner|   2|\n",
      "|     24.59|3.61|Female|    No|Sun|Dinner|   4|\n",
      "|     25.29|4.71|  Male|    No|Sun|Dinner|   4|\n",
      "|      8.77| 2.0|  Male|    No|Sun|Dinner|   2|\n",
      "|     26.88|3.12|  Male|    No|Sun|Dinner|   4|\n",
      "|     15.04|1.96|  Male|    No|Sun|Dinner|   2|\n",
      "|     14.78|3.23|  Male|    No|Sun|Dinner|   2|\n",
      "|     10.27|1.71|  Male|    No|Sun|Dinner|   2|\n",
      "|     35.26| 5.0|Female|    No|Sun|Dinner|   4|\n",
      "|     15.42|1.57|  Male|    No|Sun|Dinner|   2|\n",
      "|     18.43| 3.0|  Male|    No|Sun|Dinner|   4|\n",
      "|     14.83|3.02|Female|    No|Sun|Dinner|   2|\n",
      "|     21.58|3.92|  Male|    No|Sun|Dinner|   2|\n",
      "|     10.33|1.67|Female|    No|Sun|Dinner|   3|\n",
      "|     16.29|3.71|  Male|    No|Sun|Dinner|   3|\n",
      "|     16.97| 3.5|Female|    No|Sun|Dinner|   3|\n",
      "|     20.65|3.35|  Male|    No|Sat|Dinner|   3|\n",
      "+----------+----+------+------+---+------+----+\n",
      "only showing top 20 rows\n",
      "\n"
     ]
    }
   ],
   "source": [
    "tips.show()"
   ]
  },
  {
   "cell_type": "code",
   "execution_count": 7,
   "id": "b3162fd4",
   "metadata": {},
   "outputs": [
    {
     "data": {
      "text/plain": [
       "pyspark.sql.dataframe.DataFrame"
      ]
     },
     "execution_count": 7,
     "metadata": {},
     "output_type": "execute_result"
    }
   ],
   "source": [
    "type(tips)"
   ]
  },
  {
   "cell_type": "code",
   "execution_count": 8,
   "id": "0c085ffc",
   "metadata": {},
   "outputs": [],
   "source": [
    "first_5_rows = tips.head(5)"
   ]
  },
  {
   "cell_type": "code",
   "execution_count": 9,
   "id": "b693411c",
   "metadata": {},
   "outputs": [
    {
     "data": {
      "text/plain": [
       "[Row(total_bill=16.99, tip=1.01, sex='Female', smoker='No', day='Sun', time='Dinner', size=2),\n",
       " Row(total_bill=10.34, tip=1.66, sex='Male', smoker='No', day='Sun', time='Dinner', size=3),\n",
       " Row(total_bill=21.01, tip=3.5, sex='Male', smoker='No', day='Sun', time='Dinner', size=3),\n",
       " Row(total_bill=23.68, tip=3.31, sex='Male', smoker='No', day='Sun', time='Dinner', size=2),\n",
       " Row(total_bill=24.59, tip=3.61, sex='Female', smoker='No', day='Sun', time='Dinner', size=4)]"
      ]
     },
     "execution_count": 9,
     "metadata": {},
     "output_type": "execute_result"
    }
   ],
   "source": [
    "first_5_rows"
   ]
  },
  {
   "cell_type": "code",
   "execution_count": 10,
   "id": "df4974c9",
   "metadata": {},
   "outputs": [],
   "source": [
    "first_row = tips.head()"
   ]
  },
  {
   "cell_type": "code",
   "execution_count": 11,
   "id": "f30239b4",
   "metadata": {},
   "outputs": [
    {
     "data": {
      "text/plain": [
       "16.99"
      ]
     },
     "execution_count": 11,
     "metadata": {},
     "output_type": "execute_result"
    }
   ],
   "source": [
    "first_row.total_bill"
   ]
  },
  {
   "cell_type": "code",
   "execution_count": 12,
   "id": "d9b2e188",
   "metadata": {},
   "outputs": [
    {
     "data": {
      "text/plain": [
       "DataFrame[total_bill: double, tip: double, sex: string, smoker: string, day: string, time: string, size: bigint]"
      ]
     },
     "execution_count": 12,
     "metadata": {},
     "output_type": "execute_result"
    }
   ],
   "source": [
    "tips"
   ]
  },
  {
   "cell_type": "code",
   "execution_count": 13,
   "id": "67549723",
   "metadata": {},
   "outputs": [
    {
     "data": {
      "text/plain": [
       "DataFrame[total_bill: double, smoker: string, day: string]"
      ]
     },
     "execution_count": 13,
     "metadata": {},
     "output_type": "execute_result"
    }
   ],
   "source": [
    "tips.select('total_bill', 'smoker', 'day')"
   ]
  },
  {
   "cell_type": "code",
   "execution_count": 14,
   "id": "965c4616",
   "metadata": {},
   "outputs": [
    {
     "name": "stdout",
     "output_type": "stream",
     "text": [
      "+----------+------+---+\n",
      "|total_bill|smoker|day|\n",
      "+----------+------+---+\n",
      "|     16.99|    No|Sun|\n",
      "|     10.34|    No|Sun|\n",
      "|     21.01|    No|Sun|\n",
      "|     23.68|    No|Sun|\n",
      "|     24.59|    No|Sun|\n",
      "|     25.29|    No|Sun|\n",
      "|      8.77|    No|Sun|\n",
      "|     26.88|    No|Sun|\n",
      "|     15.04|    No|Sun|\n",
      "|     14.78|    No|Sun|\n",
      "|     10.27|    No|Sun|\n",
      "|     35.26|    No|Sun|\n",
      "|     15.42|    No|Sun|\n",
      "|     18.43|    No|Sun|\n",
      "|     14.83|    No|Sun|\n",
      "|     21.58|    No|Sun|\n",
      "|     10.33|    No|Sun|\n",
      "|     16.29|    No|Sun|\n",
      "|     16.97|    No|Sun|\n",
      "|     20.65|    No|Sat|\n",
      "+----------+------+---+\n",
      "only showing top 20 rows\n",
      "\n"
     ]
    }
   ],
   "source": [
    "tips.select('total_bill', 'smoker', 'day').show()"
   ]
  },
  {
   "cell_type": "code",
   "execution_count": 15,
   "id": "02ff3b35",
   "metadata": {},
   "outputs": [
    {
     "name": "stdout",
     "output_type": "stream",
     "text": [
      "+----------+----+------+------+---+------+----+\n",
      "|total_bill| tip|   sex|smoker|day|  time|size|\n",
      "+----------+----+------+------+---+------+----+\n",
      "|     16.99|1.01|Female|    No|Sun|Dinner|   2|\n",
      "|     10.34|1.66|  Male|    No|Sun|Dinner|   3|\n",
      "|     21.01| 3.5|  Male|    No|Sun|Dinner|   3|\n",
      "|     23.68|3.31|  Male|    No|Sun|Dinner|   2|\n",
      "|     24.59|3.61|Female|    No|Sun|Dinner|   4|\n",
      "|     25.29|4.71|  Male|    No|Sun|Dinner|   4|\n",
      "|      8.77| 2.0|  Male|    No|Sun|Dinner|   2|\n",
      "|     26.88|3.12|  Male|    No|Sun|Dinner|   4|\n",
      "|     15.04|1.96|  Male|    No|Sun|Dinner|   2|\n",
      "|     14.78|3.23|  Male|    No|Sun|Dinner|   2|\n",
      "|     10.27|1.71|  Male|    No|Sun|Dinner|   2|\n",
      "|     35.26| 5.0|Female|    No|Sun|Dinner|   4|\n",
      "|     15.42|1.57|  Male|    No|Sun|Dinner|   2|\n",
      "|     18.43| 3.0|  Male|    No|Sun|Dinner|   4|\n",
      "|     14.83|3.02|Female|    No|Sun|Dinner|   2|\n",
      "|     21.58|3.92|  Male|    No|Sun|Dinner|   2|\n",
      "|     10.33|1.67|Female|    No|Sun|Dinner|   3|\n",
      "|     16.29|3.71|  Male|    No|Sun|Dinner|   3|\n",
      "|     16.97| 3.5|Female|    No|Sun|Dinner|   3|\n",
      "|     20.65|3.35|  Male|    No|Sat|Dinner|   3|\n",
      "+----------+----+------+------+---+------+----+\n",
      "only showing top 20 rows\n",
      "\n"
     ]
    }
   ],
   "source": [
    "tips.select('*').show()"
   ]
  },
  {
   "cell_type": "code",
   "execution_count": 16,
   "id": "21a74c00",
   "metadata": {},
   "outputs": [
    {
     "data": {
      "text/plain": [
       "Column<'(tip / total_bill)'>"
      ]
     },
     "execution_count": 16,
     "metadata": {},
     "output_type": "execute_result"
    }
   ],
   "source": [
    "tip_percentage = tips.tip / tips.total_bill\n",
    "tip_percentage"
   ]
  },
  {
   "cell_type": "markdown",
   "id": "9c7a5a40",
   "metadata": {},
   "source": [
    "**spark is lazy ^^**"
   ]
  },
  {
   "cell_type": "code",
   "execution_count": 17,
   "id": "297e2613",
   "metadata": {},
   "outputs": [
    {
     "name": "stdout",
     "output_type": "stream",
     "text": [
      "+-------------------+\n",
      "| (tip / total_bill)|\n",
      "+-------------------+\n",
      "|0.05944673337257211|\n",
      "|0.16054158607350097|\n",
      "|0.16658733936220846|\n",
      "| 0.1397804054054054|\n",
      "|0.14680764538430255|\n",
      "|0.18623962040332148|\n",
      "|0.22805017103762829|\n",
      "|0.11607142857142858|\n",
      "|0.13031914893617022|\n",
      "| 0.2185385656292287|\n",
      "| 0.1665043816942551|\n",
      "|0.14180374361883155|\n",
      "|0.10181582360570687|\n",
      "|0.16277807921866522|\n",
      "|0.20364126770060686|\n",
      "|0.18164967562557924|\n",
      "| 0.1616650532429816|\n",
      "|0.22774708410067526|\n",
      "|0.20624631703005306|\n",
      "|0.16222760290556903|\n",
      "+-------------------+\n",
      "only showing top 20 rows\n",
      "\n"
     ]
    }
   ],
   "source": [
    "tips.select(tip_percentage).show()"
   ]
  },
  {
   "cell_type": "code",
   "execution_count": 18,
   "id": "7d8f69bf",
   "metadata": {},
   "outputs": [
    {
     "name": "stdout",
     "output_type": "stream",
     "text": [
      "+----------+----+------+------+---+------+----+-------------------+\n",
      "|total_bill| tip|   sex|smoker|day|  time|size| (tip / total_bill)|\n",
      "+----------+----+------+------+---+------+----+-------------------+\n",
      "|     16.99|1.01|Female|    No|Sun|Dinner|   2|0.05944673337257211|\n",
      "|     10.34|1.66|  Male|    No|Sun|Dinner|   3|0.16054158607350097|\n",
      "|     21.01| 3.5|  Male|    No|Sun|Dinner|   3|0.16658733936220846|\n",
      "|     23.68|3.31|  Male|    No|Sun|Dinner|   2| 0.1397804054054054|\n",
      "|     24.59|3.61|Female|    No|Sun|Dinner|   4|0.14680764538430255|\n",
      "|     25.29|4.71|  Male|    No|Sun|Dinner|   4|0.18623962040332148|\n",
      "|      8.77| 2.0|  Male|    No|Sun|Dinner|   2|0.22805017103762829|\n",
      "|     26.88|3.12|  Male|    No|Sun|Dinner|   4|0.11607142857142858|\n",
      "|     15.04|1.96|  Male|    No|Sun|Dinner|   2|0.13031914893617022|\n",
      "|     14.78|3.23|  Male|    No|Sun|Dinner|   2| 0.2185385656292287|\n",
      "|     10.27|1.71|  Male|    No|Sun|Dinner|   2| 0.1665043816942551|\n",
      "|     35.26| 5.0|Female|    No|Sun|Dinner|   4|0.14180374361883155|\n",
      "|     15.42|1.57|  Male|    No|Sun|Dinner|   2|0.10181582360570687|\n",
      "|     18.43| 3.0|  Male|    No|Sun|Dinner|   4|0.16277807921866522|\n",
      "|     14.83|3.02|Female|    No|Sun|Dinner|   2|0.20364126770060686|\n",
      "|     21.58|3.92|  Male|    No|Sun|Dinner|   2|0.18164967562557924|\n",
      "|     10.33|1.67|Female|    No|Sun|Dinner|   3| 0.1616650532429816|\n",
      "|     16.29|3.71|  Male|    No|Sun|Dinner|   3|0.22774708410067526|\n",
      "|     16.97| 3.5|Female|    No|Sun|Dinner|   3|0.20624631703005306|\n",
      "|     20.65|3.35|  Male|    No|Sat|Dinner|   3|0.16222760290556903|\n",
      "+----------+----+------+------+---+------+----+-------------------+\n",
      "only showing top 20 rows\n",
      "\n"
     ]
    }
   ],
   "source": [
    "tips.select('*', tip_percentage).show()"
   ]
  },
  {
   "cell_type": "markdown",
   "id": "0e8d12ee",
   "metadata": {},
   "source": [
    "We must create column name for tip_percentage!!!"
   ]
  },
  {
   "cell_type": "code",
   "execution_count": 19,
   "id": "467d1052",
   "metadata": {},
   "outputs": [
    {
     "name": "stdout",
     "output_type": "stream",
     "text": [
      "+----------+----+------+------+---+------+----+-------------------+\n",
      "|total_bill| tip|   sex|smoker|day|  time|size|     tip_percentage|\n",
      "+----------+----+------+------+---+------+----+-------------------+\n",
      "|     16.99|1.01|Female|    No|Sun|Dinner|   2|0.05944673337257211|\n",
      "|     10.34|1.66|  Male|    No|Sun|Dinner|   3|0.16054158607350097|\n",
      "|     21.01| 3.5|  Male|    No|Sun|Dinner|   3|0.16658733936220846|\n",
      "|     23.68|3.31|  Male|    No|Sun|Dinner|   2| 0.1397804054054054|\n",
      "|     24.59|3.61|Female|    No|Sun|Dinner|   4|0.14680764538430255|\n",
      "|     25.29|4.71|  Male|    No|Sun|Dinner|   4|0.18623962040332148|\n",
      "|      8.77| 2.0|  Male|    No|Sun|Dinner|   2|0.22805017103762829|\n",
      "|     26.88|3.12|  Male|    No|Sun|Dinner|   4|0.11607142857142858|\n",
      "|     15.04|1.96|  Male|    No|Sun|Dinner|   2|0.13031914893617022|\n",
      "|     14.78|3.23|  Male|    No|Sun|Dinner|   2| 0.2185385656292287|\n",
      "|     10.27|1.71|  Male|    No|Sun|Dinner|   2| 0.1665043816942551|\n",
      "|     35.26| 5.0|Female|    No|Sun|Dinner|   4|0.14180374361883155|\n",
      "|     15.42|1.57|  Male|    No|Sun|Dinner|   2|0.10181582360570687|\n",
      "|     18.43| 3.0|  Male|    No|Sun|Dinner|   4|0.16277807921866522|\n",
      "|     14.83|3.02|Female|    No|Sun|Dinner|   2|0.20364126770060686|\n",
      "|     21.58|3.92|  Male|    No|Sun|Dinner|   2|0.18164967562557924|\n",
      "|     10.33|1.67|Female|    No|Sun|Dinner|   3| 0.1616650532429816|\n",
      "|     16.29|3.71|  Male|    No|Sun|Dinner|   3|0.22774708410067526|\n",
      "|     16.97| 3.5|Female|    No|Sun|Dinner|   3|0.20624631703005306|\n",
      "|     20.65|3.35|  Male|    No|Sat|Dinner|   3|0.16222760290556903|\n",
      "+----------+----+------+------+---+------+----+-------------------+\n",
      "only showing top 20 rows\n",
      "\n"
     ]
    }
   ],
   "source": [
    "tips.select('*', tip_percentage.alias('tip_percentage')).show()"
   ]
  },
  {
   "cell_type": "code",
   "execution_count": 20,
   "id": "1552ca50",
   "metadata": {},
   "outputs": [
    {
     "data": {
      "text/plain": [
       "Column<'(tip / total_bill) AS tip_perc'>"
      ]
     },
     "execution_count": 20,
     "metadata": {},
     "output_type": "execute_result"
    }
   ],
   "source": [
    "# abother way to create temporary column\n",
    "tip_percentage.alias('tip_perc')"
   ]
  },
  {
   "cell_type": "markdown",
   "id": "82d76944",
   "metadata": {},
   "source": [
    "**In spark, in order to modify objects, you must reassign!!!**"
   ]
  },
  {
   "cell_type": "code",
   "execution_count": 21,
   "id": "660a1b03",
   "metadata": {},
   "outputs": [
    {
     "data": {
      "text/plain": [
       "DataFrame[total_bill: double, tip: double, sex: string, smoker: string, day: string, time: string, size: bigint]"
      ]
     },
     "execution_count": 21,
     "metadata": {},
     "output_type": "execute_result"
    }
   ],
   "source": [
    "tips"
   ]
  },
  {
   "cell_type": "code",
   "execution_count": 22,
   "id": "6bf536f3",
   "metadata": {},
   "outputs": [
    {
     "data": {
      "text/plain": [
       "DataFrame[total_bill: double, tip: double, sex: string, smoker: string, day: string, time: string, size: bigint, tip_perc: double]"
      ]
     },
     "execution_count": 22,
     "metadata": {},
     "output_type": "execute_result"
    }
   ],
   "source": [
    "tips = tips.select('*', tip_percentage.alias('tip_perc'))\n",
    "tips"
   ]
  },
  {
   "cell_type": "code",
   "execution_count": 23,
   "id": "7215d097",
   "metadata": {},
   "outputs": [
    {
     "name": "stdout",
     "output_type": "stream",
     "text": [
      "+----------+----+------+------+---+------+----+-------------------+\n",
      "|total_bill| tip|   sex|smoker|day|  time|size|           tip_perc|\n",
      "+----------+----+------+------+---+------+----+-------------------+\n",
      "|     16.99|1.01|Female|    No|Sun|Dinner|   2|0.05944673337257211|\n",
      "|     10.34|1.66|  Male|    No|Sun|Dinner|   3|0.16054158607350097|\n",
      "|     21.01| 3.5|  Male|    No|Sun|Dinner|   3|0.16658733936220846|\n",
      "|     23.68|3.31|  Male|    No|Sun|Dinner|   2| 0.1397804054054054|\n",
      "|     24.59|3.61|Female|    No|Sun|Dinner|   4|0.14680764538430255|\n",
      "|     25.29|4.71|  Male|    No|Sun|Dinner|   4|0.18623962040332148|\n",
      "|      8.77| 2.0|  Male|    No|Sun|Dinner|   2|0.22805017103762829|\n",
      "|     26.88|3.12|  Male|    No|Sun|Dinner|   4|0.11607142857142858|\n",
      "|     15.04|1.96|  Male|    No|Sun|Dinner|   2|0.13031914893617022|\n",
      "|     14.78|3.23|  Male|    No|Sun|Dinner|   2| 0.2185385656292287|\n",
      "|     10.27|1.71|  Male|    No|Sun|Dinner|   2| 0.1665043816942551|\n",
      "|     35.26| 5.0|Female|    No|Sun|Dinner|   4|0.14180374361883155|\n",
      "|     15.42|1.57|  Male|    No|Sun|Dinner|   2|0.10181582360570687|\n",
      "|     18.43| 3.0|  Male|    No|Sun|Dinner|   4|0.16277807921866522|\n",
      "|     14.83|3.02|Female|    No|Sun|Dinner|   2|0.20364126770060686|\n",
      "|     21.58|3.92|  Male|    No|Sun|Dinner|   2|0.18164967562557924|\n",
      "|     10.33|1.67|Female|    No|Sun|Dinner|   3| 0.1616650532429816|\n",
      "|     16.29|3.71|  Male|    No|Sun|Dinner|   3|0.22774708410067526|\n",
      "|     16.97| 3.5|Female|    No|Sun|Dinner|   3|0.20624631703005306|\n",
      "|     20.65|3.35|  Male|    No|Sat|Dinner|   3|0.16222760290556903|\n",
      "+----------+----+------+------+---+------+----+-------------------+\n",
      "only showing top 20 rows\n",
      "\n"
     ]
    }
   ],
   "source": [
    "tips.show()"
   ]
  },
  {
   "cell_type": "markdown",
   "id": "64f54722",
   "metadata": {},
   "source": [
    "Can we use np/pd methods (eg `np.where`) with a spark df?\n",
    "\n",
    "No! There's ways to do it w/spark API."
   ]
  },
  {
   "cell_type": "code",
   "execution_count": 24,
   "id": "ef887b40",
   "metadata": {},
   "outputs": [
    {
     "data": {
      "text/plain": [
       "DataFrame[size: bigint, size: string]"
      ]
     },
     "execution_count": 24,
     "metadata": {},
     "output_type": "execute_result"
    }
   ],
   "source": [
    "tips.select('size', tips.size.cast('string'))"
   ]
  },
  {
   "cell_type": "code",
   "execution_count": 25,
   "id": "29930b92",
   "metadata": {},
   "outputs": [
    {
     "name": "stdout",
     "output_type": "stream",
     "text": [
      "+----+----+\n",
      "|size|size|\n",
      "+----+----+\n",
      "|   2|   2|\n",
      "|   3|   3|\n",
      "|   3|   3|\n",
      "|   2|   2|\n",
      "|   4|   4|\n",
      "|   4|   4|\n",
      "|   2|   2|\n",
      "|   4|   4|\n",
      "|   2|   2|\n",
      "|   2|   2|\n",
      "|   2|   2|\n",
      "|   4|   4|\n",
      "|   2|   2|\n",
      "|   4|   4|\n",
      "|   2|   2|\n",
      "|   2|   2|\n",
      "|   3|   3|\n",
      "|   3|   3|\n",
      "|   3|   3|\n",
      "|   3|   3|\n",
      "+----+----+\n",
      "only showing top 20 rows\n",
      "\n"
     ]
    }
   ],
   "source": [
    "tips.select('size', tips.size.cast('string')).show()"
   ]
  },
  {
   "cell_type": "code",
   "execution_count": 26,
   "id": "32ec2d57",
   "metadata": {},
   "outputs": [],
   "source": [
    "from pyspark.sql.functions import regexp_replace, regexp_extract"
   ]
  },
  {
   "cell_type": "code",
   "execution_count": 27,
   "id": "7c293cad",
   "metadata": {},
   "outputs": [
    {
     "name": "stdout",
     "output_type": "stream",
     "text": [
      "+------+--------------------------------+\n",
      "|  time|regexp_replace(time, .{3}$, , 1)|\n",
      "+------+--------------------------------+\n",
      "|Dinner|                             Din|\n",
      "|Dinner|                             Din|\n",
      "|Dinner|                             Din|\n",
      "|Dinner|                             Din|\n",
      "|Dinner|                             Din|\n",
      "|Dinner|                             Din|\n",
      "|Dinner|                             Din|\n",
      "|Dinner|                             Din|\n",
      "|Dinner|                             Din|\n",
      "|Dinner|                             Din|\n",
      "|Dinner|                             Din|\n",
      "|Dinner|                             Din|\n",
      "|Dinner|                             Din|\n",
      "|Dinner|                             Din|\n",
      "|Dinner|                             Din|\n",
      "+------+--------------------------------+\n",
      "only showing top 15 rows\n",
      "\n"
     ]
    }
   ],
   "source": [
    "tips.select(\n",
    "    'time',\n",
    "    regexp_replace('time', r'.{3}$', '') # col, pattern, replacement\n",
    ").show(15)"
   ]
  },
  {
   "cell_type": "code",
   "execution_count": 28,
   "id": "a2326d55",
   "metadata": {},
   "outputs": [
    {
     "name": "stdout",
     "output_type": "stream",
     "text": [
      "+------+--------------------------------+------------------------------+\n",
      "|  time|regexp_replace(time, .{3}$, , 1)|regexp_extract(time, ^(\\w), 1)|\n",
      "+------+--------------------------------+------------------------------+\n",
      "|Dinner|                             Din|                             D|\n",
      "|Dinner|                             Din|                             D|\n",
      "|Dinner|                             Din|                             D|\n",
      "|Dinner|                             Din|                             D|\n",
      "|Dinner|                             Din|                             D|\n",
      "|Dinner|                             Din|                             D|\n",
      "|Dinner|                             Din|                             D|\n",
      "|Dinner|                             Din|                             D|\n",
      "|Dinner|                             Din|                             D|\n",
      "|Dinner|                             Din|                             D|\n",
      "|Dinner|                             Din|                             D|\n",
      "|Dinner|                             Din|                             D|\n",
      "|Dinner|                             Din|                             D|\n",
      "|Dinner|                             Din|                             D|\n",
      "|Dinner|                             Din|                             D|\n",
      "+------+--------------------------------+------------------------------+\n",
      "only showing top 15 rows\n",
      "\n"
     ]
    }
   ],
   "source": [
    "tips.select(\n",
    "    'time',\n",
    "    regexp_replace('time', r'.{3}$', ''), # col, pattern, replacement\n",
    "    regexp_extract('time', r'^(\\w)', 1)\n",
    ").show(15)"
   ]
  },
  {
   "cell_type": "code",
   "execution_count": 29,
   "id": "760a51fa",
   "metadata": {},
   "outputs": [
    {
     "data": {
      "text/plain": [
       "244"
      ]
     },
     "execution_count": 29,
     "metadata": {},
     "output_type": "execute_result"
    }
   ],
   "source": [
    "# to get the shape/size of df\n",
    "tips.count()"
   ]
  },
  {
   "cell_type": "code",
   "execution_count": 30,
   "id": "4acaf45b",
   "metadata": {},
   "outputs": [
    {
     "data": {
      "text/plain": [
       "['total_bill', 'tip', 'sex', 'smoker', 'day', 'time', 'size', 'tip_perc']"
      ]
     },
     "execution_count": 30,
     "metadata": {},
     "output_type": "execute_result"
    }
   ],
   "source": [
    "tips.columns"
   ]
  },
  {
   "cell_type": "markdown",
   "id": "00fba4e5",
   "metadata": {},
   "source": [
    "simulated pandas `.shape`"
   ]
  },
  {
   "cell_type": "code",
   "execution_count": 31,
   "id": "d4201053",
   "metadata": {},
   "outputs": [
    {
     "data": {
      "text/plain": [
       "(8, 244)"
      ]
     },
     "execution_count": 31,
     "metadata": {},
     "output_type": "execute_result"
    }
   ],
   "source": [
    "len(tips.columns), tips.count()"
   ]
  },
  {
   "cell_type": "code",
   "execution_count": 32,
   "id": "edc9a6b0",
   "metadata": {},
   "outputs": [],
   "source": [
    "from pyspark.sql.functions import mean, sum"
   ]
  },
  {
   "cell_type": "code",
   "execution_count": 33,
   "id": "4a116811",
   "metadata": {},
   "outputs": [
    {
     "name": "stdout",
     "output_type": "stream",
     "text": [
      "+------------------+\n",
      "|   avg(total_bill)|\n",
      "+------------------+\n",
      "|19.785942622950813|\n",
      "+------------------+\n",
      "\n"
     ]
    }
   ],
   "source": [
    "tips.select(mean('total_bill')).show()"
   ]
  },
  {
   "cell_type": "code",
   "execution_count": 34,
   "id": "09e8e109",
   "metadata": {},
   "outputs": [
    {
     "name": "stdout",
     "output_type": "stream",
     "text": [
      "+-----------------+\n",
      "|  sum(total_bill)|\n",
      "+-----------------+\n",
      "|4827.769999999999|\n",
      "+-----------------+\n",
      "\n"
     ]
    }
   ],
   "source": [
    "tips.select(sum('total_bill')).show()"
   ]
  },
  {
   "cell_type": "code",
   "execution_count": 35,
   "id": "2132a83f",
   "metadata": {},
   "outputs": [],
   "source": [
    "from pyspark.sql.functions import concat, lit"
   ]
  },
  {
   "cell_type": "code",
   "execution_count": 36,
   "id": "2f1144fd",
   "metadata": {},
   "outputs": [
    {
     "name": "stdout",
     "output_type": "stream",
     "text": [
      "+----+-----------------------+\n",
      "|size|concat(Party of , size)|\n",
      "+----+-----------------------+\n",
      "|   2|             Party of 2|\n",
      "|   3|             Party of 3|\n",
      "|   3|             Party of 3|\n",
      "|   2|             Party of 2|\n",
      "|   4|             Party of 4|\n",
      "|   4|             Party of 4|\n",
      "|   2|             Party of 2|\n",
      "|   4|             Party of 4|\n",
      "|   2|             Party of 2|\n",
      "|   2|             Party of 2|\n",
      "|   2|             Party of 2|\n",
      "|   4|             Party of 4|\n",
      "|   2|             Party of 2|\n",
      "|   4|             Party of 4|\n",
      "|   2|             Party of 2|\n",
      "|   2|             Party of 2|\n",
      "|   3|             Party of 3|\n",
      "|   3|             Party of 3|\n",
      "|   3|             Party of 3|\n",
      "|   3|             Party of 3|\n",
      "+----+-----------------------+\n",
      "only showing top 20 rows\n",
      "\n"
     ]
    }
   ],
   "source": [
    "# party of 4, party ofd 3\n",
    "tips.select(\n",
    "    'size',\n",
    "    concat(lit('Party of '), 'size'),\n",
    ").show()"
   ]
  },
  {
   "cell_type": "code",
   "execution_count": 37,
   "id": "98a8a9ef",
   "metadata": {},
   "outputs": [],
   "source": [
    "from pyspark.sql.functions import when"
   ]
  },
  {
   "cell_type": "code",
   "execution_count": 38,
   "id": "e13fc43b",
   "metadata": {},
   "outputs": [
    {
     "data": {
      "text/plain": [
       "Column<'CASE WHEN (tip_perc > 0.2) THEN good tip!! ELSE not a good tip!! END'>"
      ]
     },
     "execution_count": 38,
     "metadata": {},
     "output_type": "execute_result"
    }
   ],
   "source": [
    "when(tips.tip_perc > .20, 'good tip!!').otherwise('not a good tip!!')"
   ]
  },
  {
   "cell_type": "code",
   "execution_count": 39,
   "id": "4feb852a",
   "metadata": {
    "scrolled": true
   },
   "outputs": [
    {
     "name": "stdout",
     "output_type": "stream",
     "text": [
      "+-------------------+--------------------------------------------------------------------+\n",
      "|           tip_perc|CASE WHEN (tip_perc > 0.2) THEN good tip!! ELSE not a good tip!! END|\n",
      "+-------------------+--------------------------------------------------------------------+\n",
      "|0.05944673337257211|                                                    not a good tip!!|\n",
      "|0.16054158607350097|                                                    not a good tip!!|\n",
      "|0.16658733936220846|                                                    not a good tip!!|\n",
      "| 0.1397804054054054|                                                    not a good tip!!|\n",
      "|0.14680764538430255|                                                    not a good tip!!|\n",
      "|0.18623962040332148|                                                    not a good tip!!|\n",
      "|0.22805017103762829|                                                          good tip!!|\n",
      "|0.11607142857142858|                                                    not a good tip!!|\n",
      "|0.13031914893617022|                                                    not a good tip!!|\n",
      "| 0.2185385656292287|                                                          good tip!!|\n",
      "+-------------------+--------------------------------------------------------------------+\n",
      "only showing top 10 rows\n",
      "\n"
     ]
    }
   ],
   "source": [
    "tips.select(\n",
    "    'tip_perc',\n",
    "    when(tips.tip_perc > .20, 'good tip!!').otherwise('not a good tip!!')\n",
    ").show(10)"
   ]
  },
  {
   "cell_type": "code",
   "execution_count": 40,
   "id": "86a5fad4",
   "metadata": {},
   "outputs": [
    {
     "name": "stdout",
     "output_type": "stream",
     "text": [
      "+-------------------+----------------+\n",
      "|           tip_perc| tip_description|\n",
      "+-------------------+----------------+\n",
      "|0.05944673337257211|not a good tip!!|\n",
      "|0.16054158607350097|not a good tip!!|\n",
      "|0.16658733936220846|not a good tip!!|\n",
      "| 0.1397804054054054|not a good tip!!|\n",
      "|0.14680764538430255|not a good tip!!|\n",
      "|0.18623962040332148|not a good tip!!|\n",
      "|0.22805017103762829|      good tip!!|\n",
      "|0.11607142857142858|not a good tip!!|\n",
      "|0.13031914893617022|not a good tip!!|\n",
      "| 0.2185385656292287|      good tip!!|\n",
      "| 0.1665043816942551|not a good tip!!|\n",
      "|0.14180374361883155|not a good tip!!|\n",
      "|0.10181582360570687|not a good tip!!|\n",
      "|0.16277807921866522|not a good tip!!|\n",
      "|0.20364126770060686|      good tip!!|\n",
      "|0.18164967562557924|not a good tip!!|\n",
      "| 0.1616650532429816|not a good tip!!|\n",
      "|0.22774708410067526|      good tip!!|\n",
      "|0.20624631703005306|      good tip!!|\n",
      "|0.16222760290556903|not a good tip!!|\n",
      "+-------------------+----------------+\n",
      "only showing top 20 rows\n",
      "\n"
     ]
    }
   ],
   "source": [
    "tips.select(\n",
    "    'tip_perc',\n",
    "    when(tips.tip_perc > .20, 'good tip!!').otherwise('not a good tip!!').alias('tip_description')\n",
    ").show()"
   ]
  },
  {
   "cell_type": "code",
   "execution_count": 41,
   "id": "d5b2f204",
   "metadata": {},
   "outputs": [
    {
     "name": "stdout",
     "output_type": "stream",
     "text": [
      "+----------+----+------+------+----+------+----+-------------------+\n",
      "|total_bill| tip|   sex|smoker| day|  time|size|           tip_perc|\n",
      "+----------+----+------+------+----+------+----+-------------------+\n",
      "|      8.77| 2.0|  Male|    No| Sun|Dinner|   2|0.22805017103762829|\n",
      "|     14.78|3.23|  Male|    No| Sun|Dinner|   2| 0.2185385656292287|\n",
      "|     14.83|3.02|Female|    No| Sun|Dinner|   2|0.20364126770060686|\n",
      "|     16.29|3.71|  Male|    No| Sun|Dinner|   3|0.22774708410067526|\n",
      "|     16.97| 3.5|Female|    No| Sun|Dinner|   3|0.20624631703005306|\n",
      "|     17.92|4.08|  Male|    No| Sat|Dinner|   2|0.22767857142857142|\n",
      "|     13.94|3.06|  Male|    No| Sun|Dinner|   2|0.21951219512195122|\n",
      "|     22.23| 5.0|  Male|    No| Sun|Dinner|   2|0.22492127755285649|\n",
      "|     10.29| 2.6|Female|    No| Sun|Dinner|   2| 0.2526724975704568|\n",
      "|     18.29|3.76|  Male|   Yes| Sat|Dinner|   4|0.20557681793329688|\n",
      "|      3.07| 1.0|Female|   Yes| Sat|Dinner|   1|0.32573289902280134|\n",
      "|     16.66| 3.4|  Male|    No|Thur| Lunch|   2|0.20408163265306123|\n",
      "|     18.28| 4.0|  Male|    No|Thur| Lunch|   2| 0.2188183807439825|\n",
      "|     24.71|5.85|  Male|    No|Thur| Lunch|   2|0.23674625657628487|\n",
      "|     16.32| 4.3|Female|   Yes| Fri|Dinner|   2|0.26348039215686275|\n",
      "|     11.35| 2.5|Female|   Yes| Fri|Dinner|   2|0.22026431718061676|\n",
      "|     18.24|3.76|  Male|    No| Sat|Dinner|   2|0.20614035087719298|\n",
      "|     14.31| 4.0|Female|   Yes| Sat|Dinner|   2| 0.2795248078266946|\n",
      "|      14.0| 3.0|  Male|    No| Sat|Dinner|   2|0.21428571428571427|\n",
      "|     17.31| 3.5|Female|    No| Sun|Dinner|   2|0.20219526285384173|\n",
      "+----------+----+------+------+----+------+----+-------------------+\n",
      "only showing top 20 rows\n",
      "\n"
     ]
    }
   ],
   "source": [
    "# only retrun observations where tip% is greater than 20%\n",
    "tips.where(tips.tip_perc > .2).show()"
   ]
  },
  {
   "cell_type": "code",
   "execution_count": 42,
   "id": "6244c1cc",
   "metadata": {},
   "outputs": [
    {
     "name": "stdout",
     "output_type": "stream",
     "text": [
      "+----------+----+------+------+----+------+----+-------------------+\n",
      "|total_bill| tip|   sex|smoker| day|  time|size|           tip_perc|\n",
      "+----------+----+------+------+----+------+----+-------------------+\n",
      "|      8.77| 2.0|  Male|    No| Sun|Dinner|   2|0.22805017103762829|\n",
      "|     14.78|3.23|  Male|    No| Sun|Dinner|   2| 0.2185385656292287|\n",
      "|     14.83|3.02|Female|    No| Sun|Dinner|   2|0.20364126770060686|\n",
      "|     16.29|3.71|  Male|    No| Sun|Dinner|   3|0.22774708410067526|\n",
      "|     16.97| 3.5|Female|    No| Sun|Dinner|   3|0.20624631703005306|\n",
      "|     17.92|4.08|  Male|    No| Sat|Dinner|   2|0.22767857142857142|\n",
      "|     13.94|3.06|  Male|    No| Sun|Dinner|   2|0.21951219512195122|\n",
      "|     22.23| 5.0|  Male|    No| Sun|Dinner|   2|0.22492127755285649|\n",
      "|     10.29| 2.6|Female|    No| Sun|Dinner|   2| 0.2526724975704568|\n",
      "|     18.29|3.76|  Male|   Yes| Sat|Dinner|   4|0.20557681793329688|\n",
      "|      3.07| 1.0|Female|   Yes| Sat|Dinner|   1|0.32573289902280134|\n",
      "|     16.66| 3.4|  Male|    No|Thur| Lunch|   2|0.20408163265306123|\n",
      "|     18.28| 4.0|  Male|    No|Thur| Lunch|   2| 0.2188183807439825|\n",
      "|     24.71|5.85|  Male|    No|Thur| Lunch|   2|0.23674625657628487|\n",
      "|     16.32| 4.3|Female|   Yes| Fri|Dinner|   2|0.26348039215686275|\n",
      "|     11.35| 2.5|Female|   Yes| Fri|Dinner|   2|0.22026431718061676|\n",
      "|     18.24|3.76|  Male|    No| Sat|Dinner|   2|0.20614035087719298|\n",
      "|     14.31| 4.0|Female|   Yes| Sat|Dinner|   2| 0.2795248078266946|\n",
      "|      14.0| 3.0|  Male|    No| Sat|Dinner|   2|0.21428571428571427|\n",
      "|     17.31| 3.5|Female|    No| Sun|Dinner|   2|0.20219526285384173|\n",
      "+----------+----+------+------+----+------+----+-------------------+\n",
      "only showing top 20 rows\n",
      "\n"
     ]
    }
   ],
   "source": [
    "# does the smae thing\n",
    "tips.filter(tips.tip_perc > .2).show()"
   ]
  },
  {
   "cell_type": "code",
   "execution_count": 43,
   "id": "5158e898",
   "metadata": {},
   "outputs": [
    {
     "name": "stdout",
     "output_type": "stream",
     "text": [
      "+----------+----+------+------+----+------+----+-------------------+\n",
      "|total_bill| tip|   sex|smoker| day|  time|size|           tip_perc|\n",
      "+----------+----+------+------+----+------+----+-------------------+\n",
      "|      3.07| 1.0|Female|   Yes| Sat|Dinner|   1|0.32573289902280134|\n",
      "|      8.58|1.92|  Male|   Yes| Fri| Lunch|   1|0.22377622377622378|\n",
      "|      7.25| 1.0|Female|    No| Sat|Dinner|   1|0.13793103448275862|\n",
      "|     10.07|1.83|Female|    No|Thur| Lunch|   1| 0.1817279046673287|\n",
      "|     11.38| 2.0|Female|    No|Thur| Lunch|   2|0.17574692442882248|\n",
      "|     14.15| 2.0|Female|    No|Thur| Lunch|   2| 0.1413427561837456|\n",
      "|     13.16|2.75|Female|    No|Thur| Lunch|   2|0.20896656534954408|\n",
      "|     14.07| 2.5|  Male|    No| Sun|Dinner|   2|0.17768301350390903|\n",
      "|     17.47| 3.5|Female|    No|Thur| Lunch|   2|0.20034344590726963|\n",
      "|      8.52|1.48|  Male|    No|Thur| Lunch|   2|0.17370892018779344|\n",
      "|     14.26| 2.5|  Male|    No|Thur| Lunch|   2| 0.1753155680224404|\n",
      "|      8.35| 1.5|Female|    No|Thur| Lunch|   2|0.17964071856287425|\n",
      "|     20.27|2.83|Female|    No|Thur| Lunch|   2|0.13961519486926494|\n",
      "|     11.87|1.63|Female|    No|Thur| Lunch|   2|0.13732097725358045|\n",
      "|     12.26| 2.0|Female|    No|Thur| Lunch|   2| 0.1631321370309951|\n",
      "|      9.78|1.73|  Male|    No|Thur| Lunch|   2| 0.1768916155419223|\n",
      "|      8.51|1.25|Female|    No|Thur| Lunch|   2|0.14688601645123384|\n",
      "|      7.51| 2.0|  Male|    No|Thur| Lunch|   2| 0.2663115845539281|\n",
      "|     12.48|2.52|Female|    No|Thur| Lunch|   2|0.20192307692307693|\n",
      "|     13.13| 2.0|  Male|    No| Sun|Dinner|   2|0.15232292460015232|\n",
      "+----------+----+------+------+----+------+----+-------------------+\n",
      "only showing top 20 rows\n",
      "\n"
     ]
    }
   ],
   "source": [
    "tips.sort(tips.size).show()"
   ]
  },
  {
   "cell_type": "code",
   "execution_count": 44,
   "id": "82af581c",
   "metadata": {},
   "outputs": [
    {
     "name": "stdout",
     "output_type": "stream",
     "text": [
      "+----------+----+------+------+----+------+----+-------------------+\n",
      "|total_bill| tip|   sex|smoker| day|  time|size|           tip_perc|\n",
      "+----------+----+------+------+----+------+----+-------------------+\n",
      "|     10.07|1.83|Female|    No|Thur| Lunch|   1| 0.1817279046673287|\n",
      "|      8.58|1.92|  Male|   Yes| Fri| Lunch|   1|0.22377622377622378|\n",
      "|      7.25| 1.0|Female|    No| Sat|Dinner|   1|0.13793103448275862|\n",
      "|      3.07| 1.0|Female|   Yes| Sat|Dinner|   1|0.32573289902280134|\n",
      "|     17.92|4.08|  Male|    No| Sat|Dinner|   2|0.22767857142857142|\n",
      "|     14.78|3.23|  Male|    No| Sun|Dinner|   2| 0.2185385656292287|\n",
      "|     14.83|3.02|Female|    No| Sun|Dinner|   2|0.20364126770060686|\n",
      "|     15.77|2.23|Female|    No| Sat|Dinner|   2|0.14140773620798985|\n",
      "|     21.58|3.92|  Male|    No| Sun|Dinner|   2|0.18164967562557924|\n",
      "|      8.77| 2.0|  Male|    No| Sun|Dinner|   2|0.22805017103762829|\n",
      "+----------+----+------+------+----+------+----+-------------------+\n",
      "only showing top 10 rows\n",
      "\n"
     ]
    }
   ],
   "source": [
    "tips.orderBy(tips.size).show(10)"
   ]
  },
  {
   "cell_type": "code",
   "execution_count": 45,
   "id": "bef4a2f7",
   "metadata": {},
   "outputs": [
    {
     "name": "stdout",
     "output_type": "stream",
     "text": [
      "+----------+----+------+------+----+------+----+-------------------+\n",
      "|total_bill| tip|   sex|smoker| day|  time|size|           tip_perc|\n",
      "+----------+----+------+------+----+------+----+-------------------+\n",
      "|     48.17| 5.0|  Male|    No| Sun|Dinner|   6|0.10379904504878555|\n",
      "|      34.3| 6.7|  Male|    No|Thur| Lunch|   6|0.19533527696793004|\n",
      "|     27.05| 5.0|Female|    No|Thur| Lunch|   6|0.18484288354898337|\n",
      "|      29.8| 4.2|Female|    No|Thur| Lunch|   6|0.14093959731543623|\n",
      "|     29.85|5.14|Female|    No| Sun|Dinner|   5| 0.1721943048576214|\n",
      "|     20.69| 5.0|  Male|    No| Sun|Dinner|   5| 0.2416626389560174|\n",
      "|     41.19| 5.0|  Male|    No|Thur| Lunch|   5|0.12138868657441128|\n",
      "|     28.15| 3.0|  Male|   Yes| Sat|Dinner|   5|0.10657193605683837|\n",
      "|     30.46| 2.0|  Male|   Yes| Sun|Dinner|   5|0.06565988181221273|\n",
      "|     39.42|7.58|  Male|    No| Sat|Dinner|   4|0.19228817858954844|\n",
      "+----------+----+------+------+----+------+----+-------------------+\n",
      "only showing top 10 rows\n",
      "\n"
     ]
    }
   ],
   "source": [
    "tips.orderBy(tips.size.desc()).show(10)"
   ]
  },
  {
   "cell_type": "markdown",
   "id": "bf2f7b5a",
   "metadata": {},
   "source": [
    "Filtering and Sorting:\n",
    "\n",
    "- *`.filter`* or *`.where`* to filter rows based on a condition\n",
    "-  *`.sort` or `.orderBy`* to sort the data"
   ]
  },
  {
   "cell_type": "code",
   "execution_count": 46,
   "id": "324be2bb",
   "metadata": {},
   "outputs": [
    {
     "name": "stdout",
     "output_type": "stream",
     "text": [
      "+----------+---+------+------+----+------+----+-------------------+\n",
      "|total_bill|tip|   sex|smoker| day|  time|size|           tip_perc|\n",
      "+----------+---+------+------+----+------+----+-------------------+\n",
      "|      29.8|4.2|Female|    No|Thur| Lunch|   6|0.14093959731543623|\n",
      "|     48.17|5.0|  Male|    No| Sun|Dinner|   6|0.10379904504878555|\n",
      "|      34.3|6.7|  Male|    No|Thur| Lunch|   6|0.19533527696793004|\n",
      "|     27.05|5.0|Female|    No|Thur| Lunch|   6|0.18484288354898337|\n",
      "|     41.19|5.0|  Male|    No|Thur| Lunch|   5|0.12138868657441128|\n",
      "+----------+---+------+------+----+------+----+-------------------+\n",
      "only showing top 5 rows\n",
      "\n"
     ]
    }
   ],
   "source": [
    "tips.orderBy(tips.size.desc()).show(5)"
   ]
  },
  {
   "cell_type": "code",
   "execution_count": 47,
   "id": "05e920e1",
   "metadata": {},
   "outputs": [],
   "source": [
    "from pyspark.sql.functions import asc, desc"
   ]
  },
  {
   "cell_type": "code",
   "execution_count": 48,
   "id": "7cb91f8f",
   "metadata": {
    "scrolled": true
   },
   "outputs": [
    {
     "name": "stdout",
     "output_type": "stream",
     "text": [
      "+----------+----+------+------+----+------+----+-------------------+\n",
      "|total_bill| tip|   sex|smoker| day|  time|size|           tip_perc|\n",
      "+----------+----+------+------+----+------+----+-------------------+\n",
      "|     27.05| 5.0|Female|    No|Thur| Lunch|   6|0.18484288354898337|\n",
      "|      29.8| 4.2|Female|    No|Thur| Lunch|   6|0.14093959731543623|\n",
      "|      34.3| 6.7|  Male|    No|Thur| Lunch|   6|0.19533527696793004|\n",
      "|     48.17| 5.0|  Male|    No| Sun|Dinner|   6|0.10379904504878555|\n",
      "|     20.69| 5.0|  Male|    No| Sun|Dinner|   5| 0.2416626389560174|\n",
      "|     28.15| 3.0|  Male|   Yes| Sat|Dinner|   5|0.10657193605683837|\n",
      "|     29.85|5.14|Female|    No| Sun|Dinner|   5| 0.1721943048576214|\n",
      "|     30.46| 2.0|  Male|   Yes| Sun|Dinner|   5|0.06565988181221273|\n",
      "|     41.19| 5.0|  Male|    No|Thur| Lunch|   5|0.12138868657441128|\n",
      "|     16.49| 2.0|  Male|    No| Sun|Dinner|   4|0.12128562765312312|\n",
      "|     17.81|2.34|  Male|    No| Sat|Dinner|   4|0.13138686131386862|\n",
      "|     18.29|3.76|  Male|   Yes| Sat|Dinner|   4|0.20557681793329688|\n",
      "|     18.35| 2.5|  Male|    No| Sat|Dinner|   4|0.13623978201634876|\n",
      "|     18.43| 3.0|  Male|    No| Sun|Dinner|   4|0.16277807921866522|\n",
      "|     19.77| 2.0|  Male|    No| Sun|Dinner|   4|0.10116337885685382|\n",
      "|     20.45| 3.0|  Male|    No| Sat|Dinner|   4| 0.1466992665036675|\n",
      "|     20.53| 4.0|  Male|   Yes|Thur| Lunch|   4| 0.1948368241597662|\n",
      "|     20.69|2.45|Female|    No| Sat|Dinner|   4|0.11841469308844853|\n",
      "|      21.5| 3.5|  Male|    No| Sun|Dinner|   4|0.16279069767441862|\n",
      "|     23.17| 6.5|  Male|   Yes| Sun|Dinner|   4| 0.2805351747949935|\n",
      "+----------+----+------+------+----+------+----+-------------------+\n",
      "only showing top 20 rows\n",
      "\n"
     ]
    }
   ],
   "source": [
    "tips.orderBy(desc('size'), asc('total_bill')).show()"
   ]
  },
  {
   "cell_type": "markdown",
   "id": "4a75aeb4",
   "metadata": {},
   "source": [
    "---\n",
    "#### Aggregating"
   ]
  },
  {
   "cell_type": "code",
   "execution_count": 49,
   "id": "adb0d708",
   "metadata": {},
   "outputs": [
    {
     "name": "stdout",
     "output_type": "stream",
     "text": [
      "+----------+----+------+------+---+------+----+-------------------+\n",
      "|total_bill| tip|   sex|smoker|day|  time|size|           tip_perc|\n",
      "+----------+----+------+------+---+------+----+-------------------+\n",
      "|     16.99|1.01|Female|    No|Sun|Dinner|   2|0.05944673337257211|\n",
      "|     10.34|1.66|  Male|    No|Sun|Dinner|   3|0.16054158607350097|\n",
      "|     21.01| 3.5|  Male|    No|Sun|Dinner|   3|0.16658733936220846|\n",
      "|     23.68|3.31|  Male|    No|Sun|Dinner|   2| 0.1397804054054054|\n",
      "|     24.59|3.61|Female|    No|Sun|Dinner|   4|0.14680764538430255|\n",
      "+----------+----+------+------+---+------+----+-------------------+\n",
      "only showing top 5 rows\n",
      "\n"
     ]
    }
   ],
   "source": [
    "tips.show(5)"
   ]
  },
  {
   "cell_type": "code",
   "execution_count": 51,
   "id": "661c3f1f",
   "metadata": {},
   "outputs": [
    {
     "data": {
      "text/plain": [
       "DataFrame[time: string, avg(total_bill): double]"
      ]
     },
     "execution_count": 51,
     "metadata": {},
     "output_type": "execute_result"
    }
   ],
   "source": [
    "tips.groupBy('time').agg(mean('total_bill'))"
   ]
  },
  {
   "cell_type": "code",
   "execution_count": 52,
   "id": "f2b8797d",
   "metadata": {},
   "outputs": [
    {
     "name": "stdout",
     "output_type": "stream",
     "text": [
      "+------+-----------------+\n",
      "|  time|  avg(total_bill)|\n",
      "+------+-----------------+\n",
      "|Dinner|20.79715909090909|\n",
      "| Lunch|17.16867647058823|\n",
      "+------+-----------------+\n",
      "\n"
     ]
    }
   ],
   "source": [
    "# spark is lazy\n",
    "tips.groupBy('time').agg(mean('total_bill')).show()"
   ]
  },
  {
   "cell_type": "code",
   "execution_count": 54,
   "id": "45be4b7e",
   "metadata": {},
   "outputs": [
    {
     "name": "stdout",
     "output_type": "stream",
     "text": [
      "+------+----+------------------+\n",
      "|  time| day|   avg(total_bill)|\n",
      "+------+----+------------------+\n",
      "|Dinner| Fri| 19.66333333333333|\n",
      "|Dinner| Sat|20.441379310344825|\n",
      "|Dinner| Sun|21.409999999999997|\n",
      "|Dinner|Thur|             18.78|\n",
      "| Lunch| Fri|12.845714285714285|\n",
      "| Lunch|Thur|17.664754098360653|\n",
      "+------+----+------------------+\n",
      "\n"
     ]
    }
   ],
   "source": [
    "tips.groupBy('time', 'day').agg(mean('total_bill')).sort('time', 'day').show()"
   ]
  },
  {
   "cell_type": "code",
   "execution_count": 55,
   "id": "d165f807",
   "metadata": {},
   "outputs": [],
   "source": [
    "from pyspark.sql.functions import min, max"
   ]
  },
  {
   "cell_type": "code",
   "execution_count": 56,
   "id": "68934731",
   "metadata": {},
   "outputs": [
    {
     "name": "stdout",
     "output_type": "stream",
     "text": [
      "+------+----+------------------+--------+--------+\n",
      "|  time| day|   avg(total_bill)|min(tip)|max(tip)|\n",
      "+------+----+------------------+--------+--------+\n",
      "|Dinner| Sun|21.409999999999997|    1.01|     6.5|\n",
      "|Dinner| Sat|20.441379310344825|     1.0|    10.0|\n",
      "| Lunch|Thur|17.664754098360653|    1.25|     6.7|\n",
      "|Dinner| Fri| 19.66333333333333|     1.0|    4.73|\n",
      "|Dinner|Thur|             18.78|     3.0|     3.0|\n",
      "| Lunch| Fri|12.845714285714285|    1.58|    3.48|\n",
      "+------+----+------------------+--------+--------+\n",
      "\n"
     ]
    }
   ],
   "source": [
    "tips.groupBy('time', 'day').agg(mean('total_bill'), min('tip'), max('tip')).show()"
   ]
  },
  {
   "cell_type": "code",
   "execution_count": 59,
   "id": "f4d0ebbf",
   "metadata": {},
   "outputs": [
    {
     "name": "stdout",
     "output_type": "stream",
     "text": [
      "+------+----+------------------+------------+-----------+\n",
      "|  time| day|          avg_bill|smallest_tip|largest_tip|\n",
      "+------+----+------------------+------------+-----------+\n",
      "|Dinner| Sun|21.409999999999997|        1.01|        6.5|\n",
      "|Dinner| Sat|20.441379310344825|         1.0|       10.0|\n",
      "| Lunch|Thur|17.664754098360653|        1.25|        6.7|\n",
      "|Dinner| Fri| 19.66333333333333|         1.0|       4.73|\n",
      "|Dinner|Thur|             18.78|         3.0|        3.0|\n",
      "| Lunch| Fri|12.845714285714285|        1.58|       3.48|\n",
      "+------+----+------------------+------------+-----------+\n",
      "\n"
     ]
    }
   ],
   "source": [
    "tips.groupBy('time', 'day').agg(\n",
    "    mean('total_bill').alias('avg_bill'), \n",
    "    min('tip').alias('smallest_tip'), \n",
    "    max('tip').alias('largest_tip')\n",
    ").show()"
   ]
  },
  {
   "cell_type": "markdown",
   "id": "3e820d12",
   "metadata": {},
   "source": [
    "#### Pivots!!!!!"
   ]
  },
  {
   "cell_type": "code",
   "execution_count": 60,
   "id": "3956004b",
   "metadata": {},
   "outputs": [
    {
     "name": "stdout",
     "output_type": "stream",
     "text": [
      "+------+------------------+------------------+------------------+------------------+\n",
      "|  time|               Fri|               Sat|               Sun|              Thur|\n",
      "+------+------------------+------------------+------------------+------------------+\n",
      "| Lunch|12.845714285714285|              null|              null|17.664754098360653|\n",
      "|Dinner| 19.66333333333333|20.441379310344825|21.409999999999997|             18.78|\n",
      "+------+------------------+------------------+------------------+------------------+\n",
      "\n"
     ]
    }
   ],
   "source": [
    "tips.groupBy('time').pivot('day').agg(mean('total_bill')).show()"
   ]
  },
  {
   "cell_type": "markdown",
   "id": "94bf956c",
   "metadata": {},
   "source": [
    "#### crosstab: groupby with count agg"
   ]
  },
  {
   "cell_type": "code",
   "execution_count": 61,
   "id": "40d98e7e",
   "metadata": {
    "scrolled": true
   },
   "outputs": [
    {
     "name": "stdout",
     "output_type": "stream",
     "text": [
      "+--------+------+-----+\n",
      "|day_time|Dinner|Lunch|\n",
      "+--------+------+-----+\n",
      "|     Sat|    87|    0|\n",
      "|     Sun|    76|    0|\n",
      "|     Fri|    12|    7|\n",
      "|    Thur|     1|   61|\n",
      "+--------+------+-----+\n",
      "\n"
     ]
    }
   ],
   "source": [
    "tips.crosstab('day', 'time').show()"
   ]
  },
  {
   "cell_type": "markdown",
   "id": "5d0abc9e",
   "metadata": {},
   "source": [
    "## Spark Miscellania"
   ]
  },
  {
   "cell_type": "code",
   "execution_count": 62,
   "id": "b0c5ff45",
   "metadata": {},
   "outputs": [],
   "source": [
    "# Registers a view with tip in Spark\n",
    "# allows us to run SQL queries\n",
    "tips.createOrReplaceTempView('tips')"
   ]
  },
  {
   "cell_type": "code",
   "execution_count": 64,
   "id": "85e93bc0",
   "metadata": {},
   "outputs": [
    {
     "name": "stdout",
     "output_type": "stream",
     "text": [
      "+----------+----+------+------+---+------+----+-------------------+\n",
      "|total_bill| tip|   sex|smoker|day|  time|size|           tip_perc|\n",
      "+----------+----+------+------+---+------+----+-------------------+\n",
      "|     16.99|1.01|Female|    No|Sun|Dinner|   2|0.05944673337257211|\n",
      "|     10.34|1.66|  Male|    No|Sun|Dinner|   3|0.16054158607350097|\n",
      "|     21.01| 3.5|  Male|    No|Sun|Dinner|   3|0.16658733936220846|\n",
      "|     23.68|3.31|  Male|    No|Sun|Dinner|   2| 0.1397804054054054|\n",
      "|     24.59|3.61|Female|    No|Sun|Dinner|   4|0.14680764538430255|\n",
      "+----------+----+------+------+---+------+----+-------------------+\n",
      "only showing top 5 rows\n",
      "\n"
     ]
    }
   ],
   "source": [
    "spark.sql('select * from tips').show(5)"
   ]
  },
  {
   "cell_type": "code",
   "execution_count": 65,
   "id": "bfd2abd4",
   "metadata": {},
   "outputs": [
    {
     "name": "stdout",
     "output_type": "stream",
     "text": [
      "+------+----+------------------+------------+-----------+\n",
      "|  time| day|          avg_bill|smallest_tip|largest_tip|\n",
      "+------+----+------------------+------------+-----------+\n",
      "|Dinner| Sun|21.409999999999997|        1.01|        6.5|\n",
      "|Dinner| Sat|20.441379310344825|         1.0|       10.0|\n",
      "| Lunch|Thur|17.664754098360653|        1.25|        6.7|\n",
      "|Dinner| Fri| 19.66333333333333|         1.0|       4.73|\n",
      "|Dinner|Thur|             18.78|         3.0|        3.0|\n",
      "+------+----+------------------+------------+-----------+\n",
      "only showing top 5 rows\n",
      "\n"
     ]
    }
   ],
   "source": [
    "spark.sql('''\n",
    "SELECT \n",
    "    time,\n",
    "    day,\n",
    "    mean(total_bill) AS avg_bill,\n",
    "    min(tip) AS smallest_tip,\n",
    "    max(tip) AS largest_tip\n",
    "FROM tips\n",
    "GROUP BY time, day \n",
    "''').show(5)"
   ]
  },
  {
   "cell_type": "code",
   "execution_count": 66,
   "id": "ec170fd2",
   "metadata": {},
   "outputs": [],
   "source": [
    "from pyspark.sql.functions import expr"
   ]
  },
  {
   "cell_type": "code",
   "execution_count": 74,
   "id": "58b70f43",
   "metadata": {},
   "outputs": [
    {
     "name": "stdout",
     "output_type": "stream",
     "text": [
      "+----------+----+------+------+---+------+----+-------------------+------------------+\n",
      "|total_bill| tip|   sex|smoker|day|  time|size|           tip_perc|  price_per_person|\n",
      "+----------+----+------+------+---+------+----+-------------------+------------------+\n",
      "|     16.99|1.01|Female|    No|Sun|Dinner|   2|0.05944673337257211|             8.495|\n",
      "|     10.34|1.66|  Male|    No|Sun|Dinner|   3|0.16054158607350097|3.4466666666666668|\n",
      "|     21.01| 3.5|  Male|    No|Sun|Dinner|   3|0.16658733936220846| 7.003333333333334|\n",
      "|     23.68|3.31|  Male|    No|Sun|Dinner|   2| 0.1397804054054054|             11.84|\n",
      "|     24.59|3.61|Female|    No|Sun|Dinner|   4|0.14680764538430255|            6.1475|\n",
      "|     25.29|4.71|  Male|    No|Sun|Dinner|   4|0.18623962040332148|            6.3225|\n",
      "|      8.77| 2.0|  Male|    No|Sun|Dinner|   2|0.22805017103762829|             4.385|\n",
      "|     26.88|3.12|  Male|    No|Sun|Dinner|   4|0.11607142857142858|              6.72|\n",
      "|     15.04|1.96|  Male|    No|Sun|Dinner|   2|0.13031914893617022|              7.52|\n",
      "|     14.78|3.23|  Male|    No|Sun|Dinner|   2| 0.2185385656292287|              7.39|\n",
      "|     10.27|1.71|  Male|    No|Sun|Dinner|   2| 0.1665043816942551|             5.135|\n",
      "|     35.26| 5.0|Female|    No|Sun|Dinner|   4|0.14180374361883155|             8.815|\n",
      "|     15.42|1.57|  Male|    No|Sun|Dinner|   2|0.10181582360570687|              7.71|\n",
      "|     18.43| 3.0|  Male|    No|Sun|Dinner|   4|0.16277807921866522|            4.6075|\n",
      "|     14.83|3.02|Female|    No|Sun|Dinner|   2|0.20364126770060686|             7.415|\n",
      "|     21.58|3.92|  Male|    No|Sun|Dinner|   2|0.18164967562557924|             10.79|\n",
      "|     10.33|1.67|Female|    No|Sun|Dinner|   3| 0.1616650532429816|3.4433333333333334|\n",
      "|     16.29|3.71|  Male|    No|Sun|Dinner|   3|0.22774708410067526|              5.43|\n",
      "|     16.97| 3.5|Female|    No|Sun|Dinner|   3|0.20624631703005306| 5.656666666666666|\n",
      "|     20.65|3.35|  Male|    No|Sat|Dinner|   3|0.16222760290556903| 6.883333333333333|\n",
      "+----------+----+------+------+---+------+----+-------------------+------------------+\n",
      "only showing top 20 rows\n",
      "\n"
     ]
    }
   ],
   "source": [
    "# can run SQL operations within expr()\n",
    "tips.select('*', expr('total_bill / size AS price_per_person')).show()"
   ]
  },
  {
   "cell_type": "code",
   "execution_count": 72,
   "id": "5da14a5f",
   "metadata": {},
   "outputs": [
    {
     "name": "stdout",
     "output_type": "stream",
     "text": [
      "+------+------------+\n",
      "|smoker|biggest_bill|\n",
      "+------+------------+\n",
      "|    No|       48.33|\n",
      "|   Yes|       50.81|\n",
      "+------+------------+\n",
      "\n"
     ]
    }
   ],
   "source": [
    "tips.groupBy('smoker').agg(expr('MAX(total_bill) AS biggest_bill')).show()"
   ]
  },
  {
   "cell_type": "code",
   "execution_count": 77,
   "id": "37eee1d3",
   "metadata": {},
   "outputs": [],
   "source": [
    "mpg = spark.createDataFrame(pydataset.data('mpg'))"
   ]
  },
  {
   "cell_type": "code",
   "execution_count": 78,
   "id": "15cd9028",
   "metadata": {},
   "outputs": [
    {
     "name": "stdout",
     "output_type": "stream",
     "text": [
      "== Physical Plan ==\n",
      "*(1) Scan ExistingRDD[manufacturer#1436,model#1437,displ#1438,year#1439L,cyl#1440L,trans#1441,drv#1442,cty#1443L,hwy#1444L,fl#1445,class#1446]\n",
      "\n",
      "\n"
     ]
    }
   ],
   "source": [
    "mpg.explain()"
   ]
  },
  {
   "cell_type": "code",
   "execution_count": 82,
   "id": "2c7f9da5",
   "metadata": {},
   "outputs": [
    {
     "name": "stdout",
     "output_type": "stream",
     "text": [
      "+---------------+\n",
      "|highway_mileage|\n",
      "+---------------+\n",
      "|             29|\n",
      "|             29|\n",
      "|             31|\n",
      "|             30|\n",
      "|             26|\n",
      "+---------------+\n",
      "only showing top 5 rows\n",
      "\n"
     ]
    }
   ],
   "source": [
    "mpg.select(mpg.hwy.alias('highway_mileage')).show(5)"
   ]
  },
  {
   "cell_type": "markdown",
   "id": "102fe3da",
   "metadata": {},
   "source": [
    "`.explain()`: shows spark query plan"
   ]
  },
  {
   "cell_type": "code",
   "execution_count": 81,
   "id": "29b5182b",
   "metadata": {},
   "outputs": [
    {
     "name": "stdout",
     "output_type": "stream",
     "text": [
      "== Physical Plan ==\n",
      "*(1) Project [hwy#1444L AS highway_mileage#1467L]\n",
      "+- *(1) Scan ExistingRDD[manufacturer#1436,model#1437,displ#1438,year#1439L,cyl#1440L,trans#1441,drv#1442,cty#1443L,hwy#1444L,fl#1445,class#1446]\n",
      "\n",
      "\n"
     ]
    }
   ],
   "source": [
    "mpg.select(mpg.hwy.alias('highway_mileage')).explain()"
   ]
  },
  {
   "cell_type": "code",
   "execution_count": 84,
   "id": "faf6e6cf",
   "metadata": {},
   "outputs": [
    {
     "name": "stdout",
     "output_type": "stream",
     "text": [
      "== Physical Plan ==\n",
      "*(1) Project [hwy#1444L AS highway_mileage#1476L]\n",
      "+- *(1) Filter (isnotnull(cyl#1440L) AND (cyl#1440L = 4))\n",
      "   +- *(1) Scan ExistingRDD[manufacturer#1436,model#1437,displ#1438,year#1439L,cyl#1440L,trans#1441,drv#1442,cty#1443L,hwy#1444L,fl#1445,class#1446]\n",
      "\n",
      "\n"
     ]
    }
   ],
   "source": [
    "mpg.filter(mpg.cyl == 4).select(mpg.hwy.alias('highway_mileage')).explain()"
   ]
  },
  {
   "cell_type": "code",
   "execution_count": 85,
   "id": "26662630",
   "metadata": {},
   "outputs": [
    {
     "name": "stdout",
     "output_type": "stream",
     "text": [
      "== Physical Plan ==\n",
      "*(1) Project [cyl#1440L, hwy#1444L AS highway_mileage#1478L]\n",
      "+- *(1) Filter (isnotnull(cyl#1440L) AND (cyl#1440L = 4))\n",
      "   +- *(1) Scan ExistingRDD[manufacturer#1436,model#1437,displ#1438,year#1439L,cyl#1440L,trans#1441,drv#1442,cty#1443L,hwy#1444L,fl#1445,class#1446]\n",
      "\n",
      "\n"
     ]
    }
   ],
   "source": [
    "mpg.select('cyl', mpg.hwy.alias('highway_mileage')).filter(mpg.cyl == 4).explain()"
   ]
  },
  {
   "cell_type": "markdown",
   "id": "b8b03a01",
   "metadata": {},
   "source": [
    "---\n",
    "---"
   ]
  },
  {
   "cell_type": "code",
   "execution_count": 86,
   "id": "4a61e1f7",
   "metadata": {},
   "outputs": [
    {
     "name": "stdout",
     "output_type": "stream",
     "text": [
      "+----------+-------------+--------+--------+----+-------+\n",
      "|      date|precipitation|temp_max|temp_min|wind|weather|\n",
      "+----------+-------------+--------+--------+----+-------+\n",
      "|2012-01-01|          0.0|    12.8|     5.0| 4.7|drizzle|\n",
      "|2012-01-02|         10.9|    10.6|     2.8| 4.5|   rain|\n",
      "|2012-01-03|          0.8|    11.7|     7.2| 2.3|   rain|\n",
      "|2012-01-04|         20.3|    12.2|     5.6| 4.7|   rain|\n",
      "|2012-01-05|          1.3|     8.9|     2.8| 6.1|   rain|\n",
      "|2012-01-06|          2.5|     4.4|     2.2| 2.2|   rain|\n",
      "+----------+-------------+--------+--------+----+-------+\n",
      "only showing top 6 rows\n",
      "\n"
     ]
    }
   ],
   "source": [
    "from vega_datasets import data\n",
    "\n",
    "weather = data.seattle_weather().assign(date=lambda df: df.date.astype(str))\n",
    "weather = spark.createDataFrame(weather)\n",
    "weather.show(6)"
   ]
  },
  {
   "cell_type": "code",
   "execution_count": 87,
   "id": "73c9c0c9",
   "metadata": {},
   "outputs": [],
   "source": [
    "from pyspark.sql.functions import month, year, quarter"
   ]
  },
  {
   "cell_type": "code",
   "execution_count": 88,
   "id": "4f6ff7ef",
   "metadata": {},
   "outputs": [
    {
     "name": "stdout",
     "output_type": "stream",
     "text": [
      "+-----+------------------+\n",
      "|month|    total_rainfall|\n",
      "+-----+------------------+\n",
      "|    1|465.99999999999994|\n",
      "|    2|             422.0|\n",
      "|    3|             606.2|\n",
      "|    4|             375.4|\n",
      "|    5|             207.5|\n",
      "|    6|             132.9|\n",
      "|    7|              48.2|\n",
      "|    8|             163.7|\n",
      "|    9|235.49999999999997|\n",
      "|   10|             503.4|\n",
      "|   11|             642.5|\n",
      "|   12|             622.7|\n",
      "+-----+------------------+\n",
      "\n"
     ]
    }
   ],
   "source": [
    "(\n",
    "    weather.withColumn(\"month\", month(\"date\"))     # withColumn: Select * + additional column\n",
    "    .groupBy(\"month\")\n",
    "    .agg(sum(\"precipitation\").alias(\"total_rainfall\"))\n",
    "    .sort(\"month\")\n",
    "    .show()\n",
    ")"
   ]
  },
  {
   "cell_type": "markdown",
   "id": "61c42eed",
   "metadata": {},
   "source": [
    "withColumn:"
   ]
  },
  {
   "cell_type": "code",
   "execution_count": 91,
   "id": "aeabce8c",
   "metadata": {
    "scrolled": true
   },
   "outputs": [
    {
     "name": "stdout",
     "output_type": "stream",
     "text": [
      "+----------+-------------+--------+--------+----+-------+\n",
      "|      date|precipitation|temp_max|temp_min|wind|weather|\n",
      "+----------+-------------+--------+--------+----+-------+\n",
      "|2012-01-01|          0.0|    12.8|     5.0| 4.7|drizzle|\n",
      "|2012-01-02|         10.9|    10.6|     2.8| 4.5|   rain|\n",
      "|2012-01-03|          0.8|    11.7|     7.2| 2.3|   rain|\n",
      "|2012-01-04|         20.3|    12.2|     5.6| 4.7|   rain|\n",
      "|2012-01-05|          1.3|     8.9|     2.8| 6.1|   rain|\n",
      "+----------+-------------+--------+--------+----+-------+\n",
      "only showing top 5 rows\n",
      "\n"
     ]
    }
   ],
   "source": [
    "weather.show(5)"
   ]
  },
  {
   "cell_type": "code",
   "execution_count": 92,
   "id": "4a13d898",
   "metadata": {},
   "outputs": [
    {
     "name": "stdout",
     "output_type": "stream",
     "text": [
      "+----------+-------------+--------+--------+----+-------+--------+\n",
      "|      date|precipitation|temp_max|temp_min|wind|weather|did_rain|\n",
      "+----------+-------------+--------+--------+----+-------+--------+\n",
      "|2012-01-01|          0.0|    12.8|     5.0| 4.7|drizzle|   false|\n",
      "|2012-01-02|         10.9|    10.6|     2.8| 4.5|   rain|    true|\n",
      "|2012-01-03|          0.8|    11.7|     7.2| 2.3|   rain|    true|\n",
      "|2012-01-04|         20.3|    12.2|     5.6| 4.7|   rain|    true|\n",
      "|2012-01-05|          1.3|     8.9|     2.8| 6.1|   rain|    true|\n",
      "+----------+-------------+--------+--------+----+-------+--------+\n",
      "only showing top 5 rows\n",
      "\n"
     ]
    }
   ],
   "source": [
    "weather.withColumn('did_rain', weather.precipitation > 0).show(5)"
   ]
  },
  {
   "cell_type": "code",
   "execution_count": 96,
   "id": "fe900dd4",
   "metadata": {},
   "outputs": [
    {
     "name": "stdout",
     "output_type": "stream",
     "text": [
      "+----------+-------------+--------+--------+----+-------+----+---+\n",
      "|      date|precipitation|temp_max|temp_min|wind|weather|year|qtr|\n",
      "+----------+-------------+--------+--------+----+-------+----+---+\n",
      "|2012-01-01|          0.0|    12.8|     5.0| 4.7|drizzle|2012|  1|\n",
      "|2012-01-02|         10.9|    10.6|     2.8| 4.5|   rain|2012|  1|\n",
      "|2012-01-03|          0.8|    11.7|     7.2| 2.3|   rain|2012|  1|\n",
      "|2012-01-04|         20.3|    12.2|     5.6| 4.7|   rain|2012|  1|\n",
      "|2012-01-05|          1.3|     8.9|     2.8| 6.1|   rain|2012|  1|\n",
      "|2012-01-06|          2.5|     4.4|     2.2| 2.2|   rain|2012|  1|\n",
      "|2012-01-07|          0.0|     7.2|     2.8| 2.3|   rain|2012|  1|\n",
      "|2012-01-08|          0.0|    10.0|     2.8| 2.0|    sun|2012|  1|\n",
      "|2012-01-09|          4.3|     9.4|     5.0| 3.4|   rain|2012|  1|\n",
      "|2012-01-10|          1.0|     6.1|     0.6| 3.4|   rain|2012|  1|\n",
      "+----------+-------------+--------+--------+----+-------+----+---+\n",
      "only showing top 10 rows\n",
      "\n"
     ]
    }
   ],
   "source": [
    "# show year and quarter\n",
    "(\n",
    "    weather.withColumn(\"year\", year(\"date\"))   \n",
    "    .withColumn('qtr', quarter('date'))\n",
    "    #.agg(sum(\"precipitation\").alias(\"total_rainfall\"))\n",
    "    #.sort(\"month\")\n",
    "    .show(10)\n",
    ")"
   ]
  },
  {
   "cell_type": "code",
   "execution_count": 97,
   "id": "2a84bfe1",
   "metadata": {},
   "outputs": [
    {
     "data": {
      "text/plain": [
       "DataFrame[date: string, precipitation: double, temp_max: double, temp_min: double, wind: double, weather: string]"
      ]
     },
     "execution_count": 97,
     "metadata": {},
     "output_type": "execute_result"
    }
   ],
   "source": [
    "# we see date is string, not Date_time, but spark still knows how to extract date info\n",
    "# if it looks like a date, spark ma be able to understand it\n",
    "weather"
   ]
  },
  {
   "cell_type": "code",
   "execution_count": 99,
   "id": "c6bdd727",
   "metadata": {},
   "outputs": [
    {
     "name": "stdout",
     "output_type": "stream",
     "text": [
      "+----+---+------------------+\n",
      "|year|qtr|    total_rainfall|\n",
      "+----+---+------------------+\n",
      "|2012|  3|27.200000000000003|\n",
      "|2015|  2| 72.29999999999997|\n",
      "|2015|  3|106.69999999999999|\n",
      "|2014|  3|122.29999999999998|\n",
      "|2013|  4|             177.9|\n",
      "|2013|  3|             191.2|\n",
      "|2012|  2|195.39999999999998|\n",
      "|2014|  2|204.90000000000006|\n",
      "|2013|  1|215.70000000000005|\n",
      "|2013|  2|243.20000000000005|\n",
      "|2015|  1|340.70000000000016|\n",
      "|2014|  4|416.40000000000015|\n",
      "|2012|  1| 448.6000000000001|\n",
      "|2014|  1| 489.2000000000001|\n",
      "|2012|  4| 554.8000000000001|\n",
      "|2015|  4| 619.4999999999999|\n",
      "+----+---+------------------+\n",
      "\n"
     ]
    }
   ],
   "source": [
    "(\n",
    "    weather.withColumn(\"year\", year(\"date\"))   \n",
    "    .withColumn('qtr', quarter('date'))\n",
    "    .groupBy('year', 'qtr')\n",
    "    .agg(sum(\"precipitation\").alias(\"total_rainfall\"))\n",
    "    .sort(\"total_rainfall\")\n",
    "    .show()\n",
    ")"
   ]
  },
  {
   "cell_type": "markdown",
   "id": "cce56028",
   "metadata": {},
   "source": [
    "Number of days with freesing temps in 2013"
   ]
  },
  {
   "cell_type": "code",
   "execution_count": 103,
   "id": "e57acfba",
   "metadata": {},
   "outputs": [
    {
     "name": "stdout",
     "output_type": "stream",
     "text": [
      "+----------+-------------+--------+--------+----+-------+\n",
      "|      date|precipitation|temp_max|temp_min|wind|weather|\n",
      "+----------+-------------+--------+--------+----+-------+\n",
      "|2012-01-01|          0.0|    12.8|     5.0| 4.7|drizzle|\n",
      "|2012-01-02|         10.9|    10.6|     2.8| 4.5|   rain|\n",
      "|2012-01-03|          0.8|    11.7|     7.2| 2.3|   rain|\n",
      "|2012-01-04|         20.3|    12.2|     5.6| 4.7|   rain|\n",
      "|2012-01-05|          1.3|     8.9|     2.8| 6.1|   rain|\n",
      "|2012-01-06|          2.5|     4.4|     2.2| 2.2|   rain|\n",
      "|2012-01-07|          0.0|     7.2|     2.8| 2.3|   rain|\n",
      "|2012-01-08|          0.0|    10.0|     2.8| 2.0|    sun|\n",
      "|2012-01-09|          4.3|     9.4|     5.0| 3.4|   rain|\n",
      "|2012-01-10|          1.0|     6.1|     0.6| 3.4|   rain|\n",
      "|2012-01-11|          0.0|     6.1|    -1.1| 5.1|    sun|\n",
      "|2012-01-12|          0.0|     6.1|    -1.7| 1.9|    sun|\n",
      "|2012-01-13|          0.0|     5.0|    -2.8| 1.3|    sun|\n",
      "|2012-01-14|          4.1|     4.4|     0.6| 5.3|   snow|\n",
      "|2012-01-15|          5.3|     1.1|    -3.3| 3.2|   snow|\n",
      "|2012-01-16|          2.5|     1.7|    -2.8| 5.0|   snow|\n",
      "|2012-01-17|          8.1|     3.3|     0.0| 5.6|   snow|\n",
      "|2012-01-18|         19.8|     0.0|    -2.8| 5.0|   snow|\n",
      "|2012-01-19|         15.2|    -1.1|    -2.8| 1.6|   snow|\n",
      "|2012-01-20|         13.5|     7.2|    -1.1| 2.3|   snow|\n",
      "+----------+-------------+--------+--------+----+-------+\n",
      "only showing top 20 rows\n",
      "\n"
     ]
    }
   ],
   "source": [
    "weather.show()"
   ]
  },
  {
   "cell_type": "code",
   "execution_count": 108,
   "id": "6213d874",
   "metadata": {},
   "outputs": [],
   "source": [
    "from pyspark.sql.functions import col"
   ]
  },
  {
   "cell_type": "code",
   "execution_count": 109,
   "id": "584574b7",
   "metadata": {},
   "outputs": [
    {
     "name": "stdout",
     "output_type": "stream",
     "text": [
      "+-----+------------------------------+\n",
      "|month|no_of_days_with_freezing_temps|\n",
      "+-----+------------------------------+\n",
      "|    1|                             3|\n",
      "|    2|                             0|\n",
      "|    3|                             0|\n",
      "|    4|                             0|\n",
      "|    5|                             0|\n",
      "|    6|                             0|\n",
      "|    7|                             0|\n",
      "|    8|                             0|\n",
      "|    9|                             0|\n",
      "|   10|                             0|\n",
      "|   11|                             0|\n",
      "|   12|                             5|\n",
      "+-----+------------------------------+\n",
      "\n"
     ]
    }
   ],
   "source": [
    "(\n",
    "    weather.filter(year(\"date\") == 2013)\n",
    "    .withColumn('temp_avg', (weather.temp_min + weather.temp_max) / 2)\n",
    "    .withColumn(\"freezing_temps\", (col('temp_avg') <= 0).cast(\"int\"))\n",
    "    .withColumn(\"month\", month(\"date\"))\n",
    "    .groupBy(\"month\")\n",
    "    .agg(sum(\"freezing_temps\").alias(\"no_of_days_with_freezing_temps\"))\n",
    "    .sort(\"month\")\n",
    "    .show()\n",
    ")"
   ]
  },
  {
   "cell_type": "code",
   "execution_count": 110,
   "id": "d8a20137",
   "metadata": {},
   "outputs": [
    {
     "name": "stdout",
     "output_type": "stream",
     "text": [
      "== Physical Plan ==\n",
      "AdaptiveSparkPlan isFinalPlan=false\n",
      "+- Sort [month#1996 ASC NULLS FIRST], true, 0\n",
      "   +- Exchange rangepartitioning(month#1996 ASC NULLS FIRST, 200), ENSURE_REQUIREMENTS, [id=#1519]\n",
      "      +- HashAggregate(keys=[month#1996], functions=[sum(freezing_temps#1987)])\n",
      "         +- Exchange hashpartitioning(month#1996, 200), ENSURE_REQUIREMENTS, [id=#1516]\n",
      "            +- HashAggregate(keys=[month#1996], functions=[partial_sum(freezing_temps#1987)])\n",
      "               +- Project [cast((((temp_min#1484 + temp_max#1483) / 2.0) <= 0.0) as int) AS freezing_temps#1987, month(cast(date#1481 as date)) AS month#1996]\n",
      "                  +- Filter (isnotnull(date#1481) AND (year(cast(date#1481 as date)) = 2013))\n",
      "                     +- Scan ExistingRDD[date#1481,precipitation#1482,temp_max#1483,temp_min#1484,wind#1485,weather#1486]\n",
      "\n",
      "\n"
     ]
    }
   ],
   "source": [
    "(\n",
    "    weather.filter(year(\"date\") == 2013)\n",
    "    .withColumn('temp_avg', (weather.temp_min + weather.temp_max) / 2)\n",
    "    .withColumn(\"freezing_temps\", (col('temp_avg') <= 0).cast(\"int\"))\n",
    "    .withColumn(\"month\", month(\"date\"))\n",
    "    .groupBy(\"month\")\n",
    "    .agg(sum(\"freezing_temps\").alias(\"no_of_days_with_freezing_temps\"))\n",
    "    .sort(\"month\")\n",
    "    .explain()\n",
    ")"
   ]
  },
  {
   "cell_type": "code",
   "execution_count": 111,
   "id": "a0cc9850",
   "metadata": {},
   "outputs": [
    {
     "data": {
      "text/html": [
       "<div>\n",
       "<style scoped>\n",
       "    .dataframe tbody tr th:only-of-type {\n",
       "        vertical-align: middle;\n",
       "    }\n",
       "\n",
       "    .dataframe tbody tr th {\n",
       "        vertical-align: top;\n",
       "    }\n",
       "\n",
       "    .dataframe thead th {\n",
       "        text-align: right;\n",
       "    }\n",
       "</style>\n",
       "<table border=\"1\" class=\"dataframe\">\n",
       "  <thead>\n",
       "    <tr style=\"text-align: right;\">\n",
       "      <th></th>\n",
       "      <th>month</th>\n",
       "      <th>no_of_days_with_freezing_temps</th>\n",
       "    </tr>\n",
       "  </thead>\n",
       "  <tbody>\n",
       "    <tr>\n",
       "      <th>0</th>\n",
       "      <td>1</td>\n",
       "      <td>3</td>\n",
       "    </tr>\n",
       "    <tr>\n",
       "      <th>1</th>\n",
       "      <td>2</td>\n",
       "      <td>0</td>\n",
       "    </tr>\n",
       "    <tr>\n",
       "      <th>2</th>\n",
       "      <td>3</td>\n",
       "      <td>0</td>\n",
       "    </tr>\n",
       "    <tr>\n",
       "      <th>3</th>\n",
       "      <td>4</td>\n",
       "      <td>0</td>\n",
       "    </tr>\n",
       "    <tr>\n",
       "      <th>4</th>\n",
       "      <td>5</td>\n",
       "      <td>0</td>\n",
       "    </tr>\n",
       "    <tr>\n",
       "      <th>5</th>\n",
       "      <td>6</td>\n",
       "      <td>0</td>\n",
       "    </tr>\n",
       "    <tr>\n",
       "      <th>6</th>\n",
       "      <td>7</td>\n",
       "      <td>0</td>\n",
       "    </tr>\n",
       "    <tr>\n",
       "      <th>7</th>\n",
       "      <td>8</td>\n",
       "      <td>0</td>\n",
       "    </tr>\n",
       "    <tr>\n",
       "      <th>8</th>\n",
       "      <td>9</td>\n",
       "      <td>0</td>\n",
       "    </tr>\n",
       "    <tr>\n",
       "      <th>9</th>\n",
       "      <td>10</td>\n",
       "      <td>0</td>\n",
       "    </tr>\n",
       "    <tr>\n",
       "      <th>10</th>\n",
       "      <td>11</td>\n",
       "      <td>0</td>\n",
       "    </tr>\n",
       "    <tr>\n",
       "      <th>11</th>\n",
       "      <td>12</td>\n",
       "      <td>5</td>\n",
       "    </tr>\n",
       "  </tbody>\n",
       "</table>\n",
       "</div>"
      ],
      "text/plain": [
       "    month  no_of_days_with_freezing_temps\n",
       "0       1                               3\n",
       "1       2                               0\n",
       "2       3                               0\n",
       "3       4                               0\n",
       "4       5                               0\n",
       "5       6                               0\n",
       "6       7                               0\n",
       "7       8                               0\n",
       "8       9                               0\n",
       "9      10                               0\n",
       "10     11                               0\n",
       "11     12                               5"
      ]
     },
     "execution_count": 111,
     "metadata": {},
     "output_type": "execute_result"
    }
   ],
   "source": [
    "(\n",
    "    weather.filter(year(\"date\") == 2013)\n",
    "    .withColumn('temp_avg', (weather.temp_min + weather.temp_max) / 2)\n",
    "    .withColumn(\"freezing_temps\", (col('temp_avg') <= 0).cast(\"int\"))\n",
    "    .withColumn(\"month\", month(\"date\"))\n",
    "    .groupBy(\"month\")\n",
    "    .agg(sum(\"freezing_temps\").alias(\"no_of_days_with_freezing_temps\"))\n",
    "    .sort(\"month\")\n",
    "    .toPandas()\n",
    ")"
   ]
  },
  {
   "cell_type": "code",
   "execution_count": null,
   "id": "f7229bea",
   "metadata": {},
   "outputs": [],
   "source": []
  }
 ],
 "metadata": {
  "kernelspec": {
   "display_name": "Python 3",
   "language": "python",
   "name": "python3"
  },
  "language_info": {
   "codemirror_mode": {
    "name": "ipython",
    "version": 3
   },
   "file_extension": ".py",
   "mimetype": "text/x-python",
   "name": "python",
   "nbconvert_exporter": "python",
   "pygments_lexer": "ipython3",
   "version": "3.8.8"
  }
 },
 "nbformat": 4,
 "nbformat_minor": 5
}
