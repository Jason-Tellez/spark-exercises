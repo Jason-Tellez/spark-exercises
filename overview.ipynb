{
 "cells": [
  {
   "cell_type": "markdown",
   "id": "f90d26d6-9075-4b73-87f5-ec7a366ae246",
   "metadata": {},
   "source": [
    "# Spark Overview"
   ]
  },
  {
   "cell_type": "markdown",
   "id": "95bcc49d-0702-4f9e-b0b7-ff8f9ff92148",
   "metadata": {},
   "source": [
    "## Who, what, when, where, why, how?\n",
    "\n",
    "- **Apache Spark**: platform for dealing with big data\n",
    "\n",
    "- 4 V's of big data\n",
    "    - Velocity: gathered quickly, ther's lots of data coming in (\"streaming\" data/ constantly coming in)\n",
    "    - Veracity: accuracy or reliability -- missing data\n",
    "    - Volume: How big it is.\n",
    "        - Bigger than memory vs. Bigger than storage\n",
    "    - Variety: different data sources, data might not be uniform/structured\n",
    "\n",
    "- Alternatives to Spark: hadoop & dask\n",
    "\n",
    "- Who interacts with Spark?\n",
    "    - Data Scientists, Data Engineers\n",
    "\n",
    "- Where?\n",
    "    - laptop, desktop, cloud\n",
    "\n",
    "- When?\n",
    "    - When it is already setup"
   ]
  },
  {
   "cell_type": "markdown",
   "id": "312a9626-bf6f-488d-bfcb-c06cc7a145b0",
   "metadata": {},
   "source": [
    "## Spark Architecture\n",
    "\n",
    "- Scala on the JVM (Java Virtual Machine)\n",
    "- Client Libraries -- pyspark\n",
    "- Drivers, Executors, Clusters, Cluster Managers\n",
    "    - Driver runs the spark client: directs the cluster manager ton data partition\n",
    "    - Cluster Manager interfaces with client libraries and drives up work amongst executors\n",
    "- Local Mode: all of the above on one computer\n",
    "- the code we write for spark in local mode works just as well with a full cluster"
   ]
  },
  {
   "cell_type": "markdown",
   "id": "c8f0d89b-77ba-48e2-b559-d25aa4b8da83",
   "metadata": {},
   "source": [
    "## Parallel Work\n",
    "\n",
    "- Teamwork but for computers\n",
    "- Tradeoffs and advantages\n",
    "- 2 levels: executors and partitions\n",
    "\n",
    "### Spark Dataframes\n",
    "\n",
    "- not a pandas dataframe\n",
    "- 2-D data struture with named columns\n",
    "- familiar abstraction; abstracts all of the above\n",
    "- lazy: work isnt done until it has to be done\n",
    "- SQL\n",
    "- **transformations** and **actions**: transformations are lazy, actions realize data"
   ]
  },
  {
   "cell_type": "markdown",
   "id": "9556cc7f-3892-4d32-9708-030d95f44e59",
   "metadata": {},
   "source": [
    "## Lessons Covered\n",
    "\n",
    "1. Overview\n",
    "2. Env Setup\n",
    "3. Spark API\n",
    "4. Data Wrangling\n",
    "5. Data Exploration"
   ]
  },
  {
   "cell_type": "code",
   "execution_count": 1,
   "id": "69473324",
   "metadata": {},
   "outputs": [],
   "source": [
    "import pyspark"
   ]
  },
  {
   "cell_type": "code",
   "execution_count": 4,
   "id": "0db01bd7",
   "metadata": {},
   "outputs": [
    {
     "name": "stdout",
     "output_type": "stream",
     "text": [
      "+---+\n",
      "| id|\n",
      "+---+\n",
      "|  0|\n",
      "|  1|\n",
      "|  2|\n",
      "|  3|\n",
      "|  4|\n",
      "+---+\n",
      "\n"
     ]
    }
   ],
   "source": [
    "spark = pyspark.sql.SparkSession.builder.getOrCreate()\n",
    "spark.range(5).show()"
   ]
  },
  {
   "cell_type": "code",
   "execution_count": 6,
   "id": "8a365bae",
   "metadata": {},
   "outputs": [
    {
     "name": "stdout",
     "output_type": "stream",
     "text": [
      "+---+\n",
      "| id|\n",
      "+---+\n",
      "|  0|\n",
      "|  1|\n",
      "|  2|\n",
      "|  3|\n",
      "|  4|\n",
      "|  5|\n",
      "|  6|\n",
      "|  7|\n",
      "|  8|\n",
      "|  9|\n",
      "+---+\n",
      "\n"
     ]
    }
   ],
   "source": [
    "spark.range(10).show()"
   ]
  },
  {
   "cell_type": "code",
   "execution_count": null,
   "id": "01adafe2",
   "metadata": {},
   "outputs": [],
   "source": []
  }
 ],
 "metadata": {
  "kernelspec": {
   "display_name": "Python 3",
   "language": "python",
   "name": "python3"
  },
  "language_info": {
   "codemirror_mode": {
    "name": "ipython",
    "version": 3
   },
   "file_extension": ".py",
   "mimetype": "text/x-python",
   "name": "python",
   "nbconvert_exporter": "python",
   "pygments_lexer": "ipython3",
   "version": "3.8.8"
  }
 },
 "nbformat": 4,
 "nbformat_minor": 5
}
